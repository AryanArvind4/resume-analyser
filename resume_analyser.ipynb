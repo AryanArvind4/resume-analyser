{
 "cells": [
  {
   "cell_type": "code",
   "execution_count": 6,
   "id": "14e6c2f5-76f8-4ca8-8087-fbd55976f2a6",
   "metadata": {},
   "outputs": [
    {
     "data": {
      "text/html": [
       "<div>\n",
       "<style scoped>\n",
       "    .dataframe tbody tr th:only-of-type {\n",
       "        vertical-align: middle;\n",
       "    }\n",
       "\n",
       "    .dataframe tbody tr th {\n",
       "        vertical-align: top;\n",
       "    }\n",
       "\n",
       "    .dataframe thead th {\n",
       "        text-align: right;\n",
       "    }\n",
       "</style>\n",
       "<table border=\"1\" class=\"dataframe\">\n",
       "  <thead>\n",
       "    <tr style=\"text-align: right;\">\n",
       "      <th></th>\n",
       "      <th>ID</th>\n",
       "      <th>Resume_str</th>\n",
       "      <th>Resume_html</th>\n",
       "      <th>Category</th>\n",
       "    </tr>\n",
       "  </thead>\n",
       "  <tbody>\n",
       "    <tr>\n",
       "      <th>0</th>\n",
       "      <td>16852973</td>\n",
       "      <td>HR ADMINISTRATOR/MARKETING ASSOCIATE\\...</td>\n",
       "      <td>&lt;div class=\"fontsize fontface vmargins hmargin...</td>\n",
       "      <td>HR</td>\n",
       "    </tr>\n",
       "    <tr>\n",
       "      <th>1</th>\n",
       "      <td>22323967</td>\n",
       "      <td>HR SPECIALIST, US HR OPERATIONS      ...</td>\n",
       "      <td>&lt;div class=\"fontsize fontface vmargins hmargin...</td>\n",
       "      <td>HR</td>\n",
       "    </tr>\n",
       "    <tr>\n",
       "      <th>2</th>\n",
       "      <td>33176873</td>\n",
       "      <td>HR DIRECTOR       Summary      Over 2...</td>\n",
       "      <td>&lt;div class=\"fontsize fontface vmargins hmargin...</td>\n",
       "      <td>HR</td>\n",
       "    </tr>\n",
       "    <tr>\n",
       "      <th>3</th>\n",
       "      <td>27018550</td>\n",
       "      <td>HR SPECIALIST       Summary    Dedica...</td>\n",
       "      <td>&lt;div class=\"fontsize fontface vmargins hmargin...</td>\n",
       "      <td>HR</td>\n",
       "    </tr>\n",
       "    <tr>\n",
       "      <th>4</th>\n",
       "      <td>17812897</td>\n",
       "      <td>HR MANAGER         Skill Highlights  ...</td>\n",
       "      <td>&lt;div class=\"fontsize fontface vmargins hmargin...</td>\n",
       "      <td>HR</td>\n",
       "    </tr>\n",
       "  </tbody>\n",
       "</table>\n",
       "</div>"
      ],
      "text/plain": [
       "         ID                                         Resume_str  \\\n",
       "0  16852973           HR ADMINISTRATOR/MARKETING ASSOCIATE\\...   \n",
       "1  22323967           HR SPECIALIST, US HR OPERATIONS      ...   \n",
       "2  33176873           HR DIRECTOR       Summary      Over 2...   \n",
       "3  27018550           HR SPECIALIST       Summary    Dedica...   \n",
       "4  17812897           HR MANAGER         Skill Highlights  ...   \n",
       "\n",
       "                                         Resume_html Category  \n",
       "0  <div class=\"fontsize fontface vmargins hmargin...       HR  \n",
       "1  <div class=\"fontsize fontface vmargins hmargin...       HR  \n",
       "2  <div class=\"fontsize fontface vmargins hmargin...       HR  \n",
       "3  <div class=\"fontsize fontface vmargins hmargin...       HR  \n",
       "4  <div class=\"fontsize fontface vmargins hmargin...       HR  "
      ]
     },
     "execution_count": 6,
     "metadata": {},
     "output_type": "execute_result"
    }
   ],
   "source": [
    "import pandas as pd \n",
    "df = pd.read_csv(\"Resume.csv\")\n",
    "\n",
    "df.head()"
   ]
  },
  {
   "cell_type": "code",
   "execution_count": 7,
   "id": "012c4c16-2112-4c8f-9948-477f53183a54",
   "metadata": {},
   "outputs": [
    {
     "data": {
      "text/plain": [
       "ID             0\n",
       "Resume_str     0\n",
       "Resume_html    0\n",
       "Category       0\n",
       "dtype: int64"
      ]
     },
     "execution_count": 7,
     "metadata": {},
     "output_type": "execute_result"
    }
   ],
   "source": [
    "# check for missing data \n",
    "df.isnull().sum()"
   ]
  },
  {
   "cell_type": "code",
   "execution_count": 8,
   "id": "c712cb07-7be2-4c58-9e8c-d90f33c5c2df",
   "metadata": {},
   "outputs": [
    {
     "data": {
      "text/html": [
       "<div>\n",
       "<style scoped>\n",
       "    .dataframe tbody tr th:only-of-type {\n",
       "        vertical-align: middle;\n",
       "    }\n",
       "\n",
       "    .dataframe tbody tr th {\n",
       "        vertical-align: top;\n",
       "    }\n",
       "\n",
       "    .dataframe thead th {\n",
       "        text-align: right;\n",
       "    }\n",
       "</style>\n",
       "<table border=\"1\" class=\"dataframe\">\n",
       "  <thead>\n",
       "    <tr style=\"text-align: right;\">\n",
       "      <th></th>\n",
       "      <th>Resume_str</th>\n",
       "      <th>Category</th>\n",
       "    </tr>\n",
       "  </thead>\n",
       "  <tbody>\n",
       "    <tr>\n",
       "      <th>0</th>\n",
       "      <td>HR ADMINISTRATOR/MARKETING ASSOCIATE\\...</td>\n",
       "      <td>HR</td>\n",
       "    </tr>\n",
       "    <tr>\n",
       "      <th>1</th>\n",
       "      <td>HR SPECIALIST, US HR OPERATIONS      ...</td>\n",
       "      <td>HR</td>\n",
       "    </tr>\n",
       "    <tr>\n",
       "      <th>2</th>\n",
       "      <td>HR DIRECTOR       Summary      Over 2...</td>\n",
       "      <td>HR</td>\n",
       "    </tr>\n",
       "    <tr>\n",
       "      <th>3</th>\n",
       "      <td>HR SPECIALIST       Summary    Dedica...</td>\n",
       "      <td>HR</td>\n",
       "    </tr>\n",
       "    <tr>\n",
       "      <th>4</th>\n",
       "      <td>HR MANAGER         Skill Highlights  ...</td>\n",
       "      <td>HR</td>\n",
       "    </tr>\n",
       "  </tbody>\n",
       "</table>\n",
       "</div>"
      ],
      "text/plain": [
       "                                          Resume_str Category\n",
       "0           HR ADMINISTRATOR/MARKETING ASSOCIATE\\...       HR\n",
       "1           HR SPECIALIST, US HR OPERATIONS      ...       HR\n",
       "2           HR DIRECTOR       Summary      Over 2...       HR\n",
       "3           HR SPECIALIST       Summary    Dedica...       HR\n",
       "4           HR MANAGER         Skill Highlights  ...       HR"
      ]
     },
     "execution_count": 8,
     "metadata": {},
     "output_type": "execute_result"
    }
   ],
   "source": [
    "# drop the extra columns \n",
    "df = df[['Resume_str', 'Category']]  # only keep the relevant columns \n",
    "\n",
    "df.head()"
   ]
  },
  {
   "cell_type": "code",
   "execution_count": 9,
   "id": "3102b928-056d-4c01-9323-9a79e84618cb",
   "metadata": {},
   "outputs": [
    {
     "name": "stdout",
     "output_type": "stream",
     "text": [
      "Category\n",
      "INFORMATION-TECHNOLOGY    120\n",
      "BUSINESS-DEVELOPMENT      120\n",
      "FINANCE                   118\n",
      "ADVOCATE                  118\n",
      "ACCOUNTANT                118\n",
      "ENGINEERING               118\n",
      "CHEF                      118\n",
      "AVIATION                  117\n",
      "FITNESS                   117\n",
      "SALES                     116\n",
      "BANKING                   115\n",
      "HEALTHCARE                115\n",
      "CONSULTANT                115\n",
      "CONSTRUCTION              112\n",
      "PUBLIC-RELATIONS          111\n",
      "HR                        110\n",
      "DESIGNER                  107\n",
      "ARTS                      103\n",
      "TEACHER                   102\n",
      "APPAREL                    97\n",
      "DIGITAL-MEDIA              96\n",
      "AGRICULTURE                63\n",
      "AUTOMOBILE                 36\n",
      "BPO                        22\n",
      "Name: count, dtype: int64\n"
     ]
    }
   ],
   "source": [
    "print(df['Category'].value_counts() ) #count the resumes per category "
   ]
  },
  {
   "cell_type": "markdown",
   "id": "4bdf4433-ce64-4ecf-ba1b-b6f800288a8b",
   "metadata": {},
   "source": [
    "**TEXT PREPROCESSING (CLEANING UP RESUME TEXT)**"
   ]
  },
  {
   "cell_type": "code",
   "execution_count": 10,
   "id": "006694a1-b732-4e61-b479-29b1d2fe0a27",
   "metadata": {},
   "outputs": [
    {
     "name": "stdout",
     "output_type": "stream",
     "text": [
      "Requirement already satisfied: nltk in /opt/miniconda3/lib/python3.12/site-packages (3.9.1)\n",
      "Requirement already satisfied: click in /opt/miniconda3/lib/python3.12/site-packages (from nltk) (8.1.7)\n",
      "Requirement already satisfied: joblib in /opt/miniconda3/lib/python3.12/site-packages (from nltk) (1.4.2)\n",
      "Requirement already satisfied: regex>=2021.8.3 in /opt/miniconda3/lib/python3.12/site-packages (from nltk) (2024.11.6)\n",
      "Requirement already satisfied: tqdm in /opt/miniconda3/lib/python3.12/site-packages (from nltk) (4.66.4)\n"
     ]
    }
   ],
   "source": [
    "!pip install nltk"
   ]
  },
  {
   "cell_type": "code",
   "execution_count": 11,
   "id": "9aa482c5-1374-4090-a4e3-f3317e8a28d5",
   "metadata": {},
   "outputs": [
    {
     "name": "stderr",
     "output_type": "stream",
     "text": [
      "[nltk_data] Downloading package stopwords to\n",
      "[nltk_data]     /Users/aryanarvindsingh/nltk_data...\n",
      "[nltk_data]   Package stopwords is already up-to-date!\n",
      "[nltk_data] Downloading package punkt to\n",
      "[nltk_data]     /Users/aryanarvindsingh/nltk_data...\n",
      "[nltk_data]   Package punkt is already up-to-date!\n",
      "[nltk_data] Downloading package wordnet to\n",
      "[nltk_data]     /Users/aryanarvindsingh/nltk_data...\n",
      "[nltk_data]   Package wordnet is already up-to-date!\n",
      "[nltk_data] Downloading package punkt_tab to\n",
      "[nltk_data]     /Users/aryanarvindsingh/nltk_data...\n",
      "[nltk_data]   Package punkt_tab is already up-to-date!\n"
     ]
    },
    {
     "data": {
      "text/html": [
       "<div>\n",
       "<style scoped>\n",
       "    .dataframe tbody tr th:only-of-type {\n",
       "        vertical-align: middle;\n",
       "    }\n",
       "\n",
       "    .dataframe tbody tr th {\n",
       "        vertical-align: top;\n",
       "    }\n",
       "\n",
       "    .dataframe thead th {\n",
       "        text-align: right;\n",
       "    }\n",
       "</style>\n",
       "<table border=\"1\" class=\"dataframe\">\n",
       "  <thead>\n",
       "    <tr style=\"text-align: right;\">\n",
       "      <th></th>\n",
       "      <th>Resume_str</th>\n",
       "      <th>cleaned_resume</th>\n",
       "    </tr>\n",
       "  </thead>\n",
       "  <tbody>\n",
       "    <tr>\n",
       "      <th>0</th>\n",
       "      <td>HR ADMINISTRATOR/MARKETING ASSOCIATE\\...</td>\n",
       "      <td>hr administrator marketing associate hr admini...</td>\n",
       "    </tr>\n",
       "    <tr>\n",
       "      <th>1</th>\n",
       "      <td>HR SPECIALIST, US HR OPERATIONS      ...</td>\n",
       "      <td>hr specialist u hr operation summary versatile...</td>\n",
       "    </tr>\n",
       "    <tr>\n",
       "      <th>2</th>\n",
       "      <td>HR DIRECTOR       Summary      Over 2...</td>\n",
       "      <td>hr director summary year experience recruiting...</td>\n",
       "    </tr>\n",
       "    <tr>\n",
       "      <th>3</th>\n",
       "      <td>HR SPECIALIST       Summary    Dedica...</td>\n",
       "      <td>hr specialist summary dedicated driven dynamic...</td>\n",
       "    </tr>\n",
       "    <tr>\n",
       "      <th>4</th>\n",
       "      <td>HR MANAGER         Skill Highlights  ...</td>\n",
       "      <td>hr manager skill highlight hr skill hr departm...</td>\n",
       "    </tr>\n",
       "  </tbody>\n",
       "</table>\n",
       "</div>"
      ],
      "text/plain": [
       "                                          Resume_str  \\\n",
       "0           HR ADMINISTRATOR/MARKETING ASSOCIATE\\...   \n",
       "1           HR SPECIALIST, US HR OPERATIONS      ...   \n",
       "2           HR DIRECTOR       Summary      Over 2...   \n",
       "3           HR SPECIALIST       Summary    Dedica...   \n",
       "4           HR MANAGER         Skill Highlights  ...   \n",
       "\n",
       "                                      cleaned_resume  \n",
       "0  hr administrator marketing associate hr admini...  \n",
       "1  hr specialist u hr operation summary versatile...  \n",
       "2  hr director summary year experience recruiting...  \n",
       "3  hr specialist summary dedicated driven dynamic...  \n",
       "4  hr manager skill highlight hr skill hr departm...  "
      ]
     },
     "execution_count": 11,
     "metadata": {},
     "output_type": "execute_result"
    }
   ],
   "source": [
    "import re\n",
    "import nltk\n",
    "from nltk.corpus import stopwords\n",
    "from nltk.tokenize import word_tokenize\n",
    "from nltk.stem import WordNetLemmatizer\n",
    "\n",
    "# Download NLTK resources\n",
    "nltk.download('stopwords')\n",
    "nltk.download('punkt')\n",
    "nltk.download('wordnet')\n",
    "nltk.download('punkt_tab')\n",
    "\n",
    "# Load stopwords (Outside the function for efficiency)\n",
    "stopwords_list = set(stopwords.words('english'))\n",
    "\n",
    "# Initialize the lemmatizer\n",
    "lemmatizer = WordNetLemmatizer()\n",
    "\n",
    "# Function to clean resume text\n",
    "def clean_text(text):\n",
    "    # remove numbers\n",
    "    text = re.sub(r'\\d', '', text)\n",
    "    \n",
    "    # Remove special characters\n",
    "    text = re.sub(r'\\W', ' ', text)\n",
    "\n",
    "    # Convert to lowercase\n",
    "    text = text.lower()\n",
    "\n",
    "    # Remove extra spaces\n",
    "    text = re.sub(r'\\s+', ' ', text)\n",
    "\n",
    "    # Tokenize text\n",
    "    words = word_tokenize(text)\n",
    "\n",
    "    # Lemmatize words and remove stopwords\n",
    "    words = [lemmatizer.lemmatize(word) for word in words if word not in stopwords_list]\n",
    "\n",
    "    return ' '.join(words)\n",
    "\n",
    "# Apply cleaning function\n",
    "df['cleaned_resume'] = df['Resume_str'].apply(clean_text)\n",
    "\n",
    "# Show cleaned text\n",
    "df[['Resume_str', 'cleaned_resume']].head(5)\n"
   ]
  },
  {
   "cell_type": "markdown",
   "id": "6649cd3b-3f4e-4676-b99f-33c22d5f078a",
   "metadata": {},
   "source": [
    "**Feature Engineering**"
   ]
  },
  {
   "cell_type": "code",
   "execution_count": 12,
   "id": "b4a3032f-ea63-42a7-8b8b-1f0557b63a7a",
   "metadata": {},
   "outputs": [
    {
     "data": {
      "text/html": [
       "<div>\n",
       "<style scoped>\n",
       "    .dataframe tbody tr th:only-of-type {\n",
       "        vertical-align: middle;\n",
       "    }\n",
       "\n",
       "    .dataframe tbody tr th {\n",
       "        vertical-align: top;\n",
       "    }\n",
       "\n",
       "    .dataframe thead th {\n",
       "        text-align: right;\n",
       "    }\n",
       "</style>\n",
       "<table border=\"1\" class=\"dataframe\">\n",
       "  <thead>\n",
       "    <tr style=\"text-align: right;\">\n",
       "      <th></th>\n",
       "      <th>ability</th>\n",
       "      <th>able</th>\n",
       "      <th>absence</th>\n",
       "      <th>abuse</th>\n",
       "      <th>academic</th>\n",
       "      <th>academy</th>\n",
       "      <th>acceptance</th>\n",
       "      <th>access</th>\n",
       "      <th>accessory</th>\n",
       "      <th>accomplished</th>\n",
       "      <th>...</th>\n",
       "      <th>written</th>\n",
       "      <th>wrote</th>\n",
       "      <th>www</th>\n",
       "      <th>xml</th>\n",
       "      <th>xp</th>\n",
       "      <th>year</th>\n",
       "      <th>yearly</th>\n",
       "      <th>york</th>\n",
       "      <th>young</th>\n",
       "      <th>youth</th>\n",
       "    </tr>\n",
       "  </thead>\n",
       "  <tbody>\n",
       "    <tr>\n",
       "      <th>0</th>\n",
       "      <td>0.000000</td>\n",
       "      <td>0.00000</td>\n",
       "      <td>0.049675</td>\n",
       "      <td>0.0</td>\n",
       "      <td>0.0</td>\n",
       "      <td>0.0</td>\n",
       "      <td>0.0</td>\n",
       "      <td>0.000000</td>\n",
       "      <td>0.0</td>\n",
       "      <td>0.040973</td>\n",
       "      <td>...</td>\n",
       "      <td>0.00000</td>\n",
       "      <td>0.000000</td>\n",
       "      <td>0.0</td>\n",
       "      <td>0.0</td>\n",
       "      <td>0.0</td>\n",
       "      <td>0.016706</td>\n",
       "      <td>0.0</td>\n",
       "      <td>0.0</td>\n",
       "      <td>0.0</td>\n",
       "      <td>0.0</td>\n",
       "    </tr>\n",
       "    <tr>\n",
       "      <th>1</th>\n",
       "      <td>0.000000</td>\n",
       "      <td>0.00000</td>\n",
       "      <td>0.000000</td>\n",
       "      <td>0.0</td>\n",
       "      <td>0.0</td>\n",
       "      <td>0.0</td>\n",
       "      <td>0.0</td>\n",
       "      <td>0.000000</td>\n",
       "      <td>0.0</td>\n",
       "      <td>0.000000</td>\n",
       "      <td>...</td>\n",
       "      <td>0.00000</td>\n",
       "      <td>0.000000</td>\n",
       "      <td>0.0</td>\n",
       "      <td>0.0</td>\n",
       "      <td>0.0</td>\n",
       "      <td>0.000000</td>\n",
       "      <td>0.0</td>\n",
       "      <td>0.0</td>\n",
       "      <td>0.0</td>\n",
       "      <td>0.0</td>\n",
       "    </tr>\n",
       "    <tr>\n",
       "      <th>2</th>\n",
       "      <td>0.000000</td>\n",
       "      <td>0.02721</td>\n",
       "      <td>0.000000</td>\n",
       "      <td>0.0</td>\n",
       "      <td>0.0</td>\n",
       "      <td>0.0</td>\n",
       "      <td>0.0</td>\n",
       "      <td>0.024280</td>\n",
       "      <td>0.0</td>\n",
       "      <td>0.000000</td>\n",
       "      <td>...</td>\n",
       "      <td>0.00000</td>\n",
       "      <td>0.000000</td>\n",
       "      <td>0.0</td>\n",
       "      <td>0.0</td>\n",
       "      <td>0.0</td>\n",
       "      <td>0.067948</td>\n",
       "      <td>0.0</td>\n",
       "      <td>0.0</td>\n",
       "      <td>0.0</td>\n",
       "      <td>0.0</td>\n",
       "    </tr>\n",
       "    <tr>\n",
       "      <th>3</th>\n",
       "      <td>0.037486</td>\n",
       "      <td>0.00000</td>\n",
       "      <td>0.081582</td>\n",
       "      <td>0.0</td>\n",
       "      <td>0.0</td>\n",
       "      <td>0.0</td>\n",
       "      <td>0.0</td>\n",
       "      <td>0.098041</td>\n",
       "      <td>0.0</td>\n",
       "      <td>0.000000</td>\n",
       "      <td>...</td>\n",
       "      <td>0.05096</td>\n",
       "      <td>0.000000</td>\n",
       "      <td>0.0</td>\n",
       "      <td>0.0</td>\n",
       "      <td>0.0</td>\n",
       "      <td>0.027437</td>\n",
       "      <td>0.0</td>\n",
       "      <td>0.0</td>\n",
       "      <td>0.0</td>\n",
       "      <td>0.0</td>\n",
       "    </tr>\n",
       "    <tr>\n",
       "      <th>4</th>\n",
       "      <td>0.000000</td>\n",
       "      <td>0.00000</td>\n",
       "      <td>0.000000</td>\n",
       "      <td>0.0</td>\n",
       "      <td>0.0</td>\n",
       "      <td>0.0</td>\n",
       "      <td>0.0</td>\n",
       "      <td>0.032034</td>\n",
       "      <td>0.0</td>\n",
       "      <td>0.000000</td>\n",
       "      <td>...</td>\n",
       "      <td>0.00000</td>\n",
       "      <td>0.020731</td>\n",
       "      <td>0.0</td>\n",
       "      <td>0.0</td>\n",
       "      <td>0.0</td>\n",
       "      <td>0.008965</td>\n",
       "      <td>0.0</td>\n",
       "      <td>0.0</td>\n",
       "      <td>0.0</td>\n",
       "      <td>0.0</td>\n",
       "    </tr>\n",
       "  </tbody>\n",
       "</table>\n",
       "<p>5 rows × 2000 columns</p>\n",
       "</div>"
      ],
      "text/plain": [
       "    ability     able   absence  abuse  academic  academy  acceptance  \\\n",
       "0  0.000000  0.00000  0.049675    0.0       0.0      0.0         0.0   \n",
       "1  0.000000  0.00000  0.000000    0.0       0.0      0.0         0.0   \n",
       "2  0.000000  0.02721  0.000000    0.0       0.0      0.0         0.0   \n",
       "3  0.037486  0.00000  0.081582    0.0       0.0      0.0         0.0   \n",
       "4  0.000000  0.00000  0.000000    0.0       0.0      0.0         0.0   \n",
       "\n",
       "     access  accessory  accomplished  ...  written     wrote  www  xml   xp  \\\n",
       "0  0.000000        0.0      0.040973  ...  0.00000  0.000000  0.0  0.0  0.0   \n",
       "1  0.000000        0.0      0.000000  ...  0.00000  0.000000  0.0  0.0  0.0   \n",
       "2  0.024280        0.0      0.000000  ...  0.00000  0.000000  0.0  0.0  0.0   \n",
       "3  0.098041        0.0      0.000000  ...  0.05096  0.000000  0.0  0.0  0.0   \n",
       "4  0.032034        0.0      0.000000  ...  0.00000  0.020731  0.0  0.0  0.0   \n",
       "\n",
       "       year  yearly  york  young  youth  \n",
       "0  0.016706     0.0   0.0    0.0    0.0  \n",
       "1  0.000000     0.0   0.0    0.0    0.0  \n",
       "2  0.067948     0.0   0.0    0.0    0.0  \n",
       "3  0.027437     0.0   0.0    0.0    0.0  \n",
       "4  0.008965     0.0   0.0    0.0    0.0  \n",
       "\n",
       "[5 rows x 2000 columns]"
      ]
     },
     "execution_count": 12,
     "metadata": {},
     "output_type": "execute_result"
    }
   ],
   "source": [
    "from sklearn.feature_extraction.text import TfidfVectorizer\n",
    "# Initialize TF-IDK Vectorizer\n",
    "vectorizer = TfidfVectorizer(max_features=2000) #limit to top 2000 important words \n",
    "\n",
    "# Transform the cleaned resume text \n",
    "X = vectorizer.fit_transform(df['cleaned_resume'])\n",
    "\n",
    "# convert X to datafram for better visualization \n",
    "tfidf_df = pd.DataFrame(X.toarray(), columns = vectorizer.get_feature_names_out())\n",
    "\n",
    "tfidf_df.head()"
   ]
  },
  {
   "cell_type": "code",
   "execution_count": 13,
   "id": "76fac2ba-2fb9-4064-9da7-dfada6ff5f71",
   "metadata": {},
   "outputs": [
    {
     "name": "stdout",
     "output_type": "stream",
     "text": [
      "['ability' 'able' 'absence' 'abuse' 'academic' 'academy' 'acceptance'\n",
      " 'access' 'accessory' 'accomplished' 'accomplishment' 'accordance'\n",
      " 'according' 'account' 'accountability' 'accountable' 'accountant'\n",
      " 'accounting' 'accrual' 'accuracy']\n"
     ]
    }
   ],
   "source": [
    "print(vectorizer.get_feature_names_out()[:20])  # Show first 20 words \n"
   ]
  },
  {
   "cell_type": "markdown",
   "id": "3169abbe-9f92-4253-a584-d0d52000f0ba",
   "metadata": {},
   "source": [
    "**Train a ML Model**"
   ]
  },
  {
   "cell_type": "code",
   "execution_count": 14,
   "id": "eb70a747-aff2-4509-b086-ab6c0abecf87",
   "metadata": {},
   "outputs": [
    {
     "name": "stdout",
     "output_type": "stream",
     "text": [
      "Model Accuracy : 0.69\n"
     ]
    }
   ],
   "source": [
    "from sklearn.model_selection import train_test_split\n",
    "from sklearn.ensemble import RandomForestClassifier\n",
    "from sklearn.metrics import accuracy_score\n",
    "\n",
    "# define input(X) and output(y)\n",
    "y = df['Category']\n",
    "\n",
    "# split the data \n",
    "# Split dataset with numeric labels\n",
    "X_train, X_test, y_train, y_test = train_test_split(X, y, test_size=0.2, random_state=42)\n",
    "\n",
    "\n",
    "# train the random forest classifier \n",
    "model = RandomForestClassifier(n_estimators = 100, random_state = 42)\n",
    "model.fit(X_train, y_train)\n",
    "\n",
    "# predict on the test dataset \n",
    "y_pred = model.predict(X_test)\n",
    "\n",
    "# evaluate the accuracy \n",
    "accuracy = accuracy_score(y_test, y_pred)\n",
    "print(f\"Model Accuracy : {accuracy:.2f}\")\n"
   ]
  },
  {
   "cell_type": "markdown",
   "id": "89f66b31-c705-4198-aae2-af10f20d6c16",
   "metadata": {},
   "source": [
    "**Train different models with better accuracy on this dataset**"
   ]
  },
  {
   "cell_type": "code",
   "execution_count": 15,
   "id": "9982e733-63a5-4180-bdd4-7022a05a46d8",
   "metadata": {},
   "outputs": [
    {
     "name": "stdout",
     "output_type": "stream",
     "text": [
      "Model Accuracy : 0.69\n",
      "Model Accuracy : 0.65\n",
      "Model Accuracy : 0.56\n",
      "Model Accuracy : 0.63\n"
     ]
    }
   ],
   "source": [
    "from sklearn.naive_bayes import MultinomialNB\n",
    "from sklearn.linear_model import LogisticRegression\n",
    "from sklearn.svm import SVC\n",
    "from sklearn.metrics import accuracy_score\n",
    "\n",
    "# list of the models to test\n",
    "models = {\n",
    "    \"Random Forest\" : RandomForestClassifier(n_estimators= 100, random_state= 42),\n",
    "    \"Logistic Regression\" : LogisticRegression(max_iter = 1000),\n",
    "    \"Naive Bayes\" : MultinomialNB(),\n",
    "    \"SVM\" : SVC(kernel = 'linear')\n",
    "}\n",
    "\n",
    "# train and evaluate each model \n",
    "for name, model in models.items():\n",
    "    # train the model\n",
    "    model.fit(X_train, y_train) \n",
    "    # predict\n",
    "    y_pred = model.predict(X_test)\n",
    "    #calculate the accuracy \n",
    "    accuracy = accuracy_score(y_test, y_pred)\n",
    "    print(f\"Model Accuracy : {accuracy:.2f}\")\n"
   ]
  },
  {
   "cell_type": "code",
   "execution_count": 16,
   "id": "12b3f9dd-7a75-48a1-8df1-36c2c186aa75",
   "metadata": {},
   "outputs": [
    {
     "name": "stdout",
     "output_type": "stream",
     "text": [
      "Best Alpha: 0.5\n",
      "Improved Naïve Bayes Accuracy: 0.58\n"
     ]
    }
   ],
   "source": [
    "from sklearn.model_selection import GridSearchCV\n",
    "from sklearn.naive_bayes import MultinomialNB\n",
    "\n",
    "# Define hyperparameter grid\n",
    "# trying different alpha values \n",
    "param_grid = {'alpha': [0.1, 0.5, 1, 2, 5]}\n",
    "\n",
    "# Perform grid search\n",
    "grid_search = GridSearchCV(MultinomialNB(), param_grid, cv=5, scoring='accuracy')\n",
    "grid_search.fit(X_train, y_train)\n",
    "\n",
    "# Best alpha value\n",
    "print(f\"Best Alpha: {grid_search.best_params_['alpha']}\")\n",
    "\n",
    "# Train best model\n",
    "best_nb = MultinomialNB(alpha=grid_search.best_params_['alpha'])\n",
    "best_nb.fit(X_train, y_train)\n",
    "y_pred = best_nb.predict(X_test)\n",
    "\n",
    "# Evaluate new accuracy\n",
    "accuracy = accuracy_score(y_test, y_pred)\n",
    "print(f\"Improved Naïve Bayes Accuracy: {accuracy:.2f}\")\n"
   ]
  },
  {
   "cell_type": "code",
   "execution_count": 17,
   "id": "38640c52-4bc1-4617-9d62-fc721474b0bd",
   "metadata": {},
   "outputs": [
    {
     "name": "stdout",
     "output_type": "stream",
     "text": [
      "Best Params: {'max_depth': None, 'min_samples_split': 5, 'n_estimators': 200}\n",
      "Improved Random Forest Accuracy: 0.68\n"
     ]
    }
   ],
   "source": [
    "from sklearn.model_selection import GridSearchCV\n",
    "from sklearn.ensemble import RandomForestClassifier\n",
    "\n",
    "# Define parameter grid\n",
    "param_grid = {\n",
    "    'n_estimators': [50, 100, 200],  # Number of trees\n",
    "    'max_depth': [10, 20, None],  # Tree depth\n",
    "    'min_samples_split': [2, 5],  # Minimum samples to split\n",
    "}\n",
    "\n",
    "# Perform grid search\n",
    "grid_search = GridSearchCV(RandomForestClassifier(random_state=42), param_grid, cv=5, scoring='accuracy')\n",
    "grid_search.fit(X_train, y_train)\n",
    "\n",
    "# Best parameters\n",
    "print(f\"Best Params: {grid_search.best_params_}\")\n",
    "\n",
    "# Train best model\n",
    "best_rf = RandomForestClassifier(**grid_search.best_params_, random_state=42)\n",
    "best_rf.fit(X_train, y_train)\n",
    "y_pred = best_rf.predict(X_test)\n",
    "\n",
    "# Evaluate accuracy\n",
    "accuracy = accuracy_score(y_test, y_pred)\n",
    "print(f\"Improved Random Forest Accuracy: {accuracy:.2f}\")\n"
   ]
  },
  {
   "cell_type": "code",
   "execution_count": 18,
   "id": "3983fabb-faf1-4df7-a75b-5cd059282922",
   "metadata": {},
   "outputs": [
    {
     "name": "stdout",
     "output_type": "stream",
     "text": [
      "Requirement already satisfied: xgboost in /opt/miniconda3/lib/python3.12/site-packages (3.0.0)\n",
      "Requirement already satisfied: numpy in /opt/miniconda3/lib/python3.12/site-packages (from xgboost) (1.26.4)\n",
      "Requirement already satisfied: scipy in /opt/miniconda3/lib/python3.12/site-packages (from xgboost) (1.13.1)\n"
     ]
    }
   ],
   "source": [
    "!pip install xgboost"
   ]
  },
  {
   "cell_type": "code",
   "execution_count": 19,
   "id": "bf1d07e4-e0e9-44e0-89d6-4fb628b8fac8",
   "metadata": {},
   "outputs": [
    {
     "name": "stdout",
     "output_type": "stream",
     "text": [
      "{'ACCOUNTANT': 0, 'ADVOCATE': 1, 'AGRICULTURE': 2, 'APPAREL': 3, 'ARTS': 4, 'AUTOMOBILE': 5, 'AVIATION': 6, 'BANKING': 7, 'BPO': 8, 'BUSINESS-DEVELOPMENT': 9, 'CHEF': 10, 'CONSTRUCTION': 11, 'CONSULTANT': 12, 'DESIGNER': 13, 'DIGITAL-MEDIA': 14, 'ENGINEERING': 15, 'FINANCE': 16, 'FITNESS': 17, 'HEALTHCARE': 18, 'HR': 19, 'INFORMATION-TECHNOLOGY': 20, 'PUBLIC-RELATIONS': 21, 'SALES': 22, 'TEACHER': 23}\n"
     ]
    }
   ],
   "source": [
    "from sklearn.preprocessing import LabelEncoder\n",
    "\n",
    "# Initialize LabelEncoder\n",
    "label_encoder = LabelEncoder()\n",
    "\n",
    "# Convert category labels to numbers\n",
    "df['Category_encoded'] = label_encoder.fit_transform(df['Category'])\n",
    "\n",
    "# Print mapping \n",
    "print(dict(zip(label_encoder.classes_, label_encoder.transform(label_encoder.classes_))))\n"
   ]
  },
  {
   "cell_type": "code",
   "execution_count": 20,
   "id": "ac658e28-85cb-4e5e-8c1e-0879bc27d13b",
   "metadata": {},
   "outputs": [
    {
     "name": "stderr",
     "output_type": "stream",
     "text": [
      "/opt/miniconda3/lib/python3.12/site-packages/xgboost/training.py:183: UserWarning: [00:30:14] WARNING: /Users/runner/work/xgboost/xgboost/src/learner.cc:738: \n",
      "Parameters: { \"use_label_encoder\" } are not used.\n",
      "\n",
      "  bst.update(dtrain, iteration=i, fobj=obj)\n"
     ]
    },
    {
     "name": "stdout",
     "output_type": "stream",
     "text": [
      "XGBoost Accuracy: 0.73\n"
     ]
    }
   ],
   "source": [
    "from xgboost import XGBClassifier\n",
    "# Ensure we use the encoded labels, NOT the original category names\n",
    "X_train, X_test, y_train, y_test = train_test_split(X, df['Category_encoded'], test_size=0.2, random_state=42)\n",
    "\n",
    "xgb_model = XGBClassifier(n_estimators = 100, learning_rate = 0.1, use_label_encoder= False, eval_metric = 'logloss')\n",
    "xgb_model.fit(X_train, y_train)\n",
    "\n",
    "y_pred = xgb_model.predict(X_test)\n",
    "\n",
    "accuracy = accuracy_score(y_test, y_pred)\n",
    "print(f\"XGBoost Accuracy: {accuracy:.2f}\")"
   ]
  },
  {
   "cell_type": "markdown",
   "id": "cfe2d570-b0da-47e6-9c52-8a3ab1b013b7",
   "metadata": {},
   "source": [
    "**Save the model**"
   ]
  },
  {
   "cell_type": "code",
   "execution_count": 21,
   "id": "db72b116-df58-485c-8183-68e65e882b46",
   "metadata": {},
   "outputs": [
    {
     "name": "stdout",
     "output_type": "stream",
     "text": [
      "Model and encoder saved successfully\n"
     ]
    }
   ],
   "source": [
    "import joblib\n",
    "\n",
    "# save the trained xgboost model \n",
    "joblib.dump(xgb_model, \"xgboost_resume_classifier.pkl\")\n",
    "\n",
    "# Save the label encoder (for decoding predictions later)\n",
    "joblib.dump(label_encoder, \"label_encoder.pkl\")\n",
    "\n",
    "print(\"Model and encoder saved successfully\")"
   ]
  },
  {
   "cell_type": "markdown",
   "id": "e39b6dc9-f837-49d7-95fb-a499b5de455c",
   "metadata": {},
   "source": [
    "This function is used to classify a new resume into a job category using a pre-trained XGBoost model and a label encoder.\n",
    "\n",
    "Why Do We Need This Code?\n",
    "After training and saving the XGBoost classifier, we need a way to classify new resumes.\n",
    "This function: \n",
    "✅ Loads the trained model.\n",
    "\n",
    "✅ Cleans and preprocesses the input text.\n",
    "\n",
    "✅ Converts text into TF-IDF numerical features.\n",
    "\n",
    "✅ Uses the model to predict the job category.\n",
    "\n",
    "✅ Converts the numeric prediction into a human-readable category name.\n"
   ]
  },
  {
   "cell_type": "code",
   "execution_count": 22,
   "id": "33cddcda-f321-4d7d-9891-4a8d230be56d",
   "metadata": {},
   "outputs": [
    {
     "name": "stdout",
     "output_type": "stream",
     "text": [
      "Resume: Software engineer skilled in Python, Java, and backend development.\n",
      "Predicted Category: BUSINESS-DEVELOPMENT\n",
      "\n",
      "Resume: Data scientist with expertise in machine learning, deep learning, and AI.\n",
      "Predicted Category: BUSINESS-DEVELOPMENT\n",
      "\n",
      "Resume: Marketing specialist with experience in brand strategy, SEO, and digital ads.\n",
      "Predicted Category: DIGITAL-MEDIA\n",
      "\n",
      "Resume: Financial analyst with strong background in investment banking and risk analysis.\n",
      "Predicted Category: BANKING\n",
      "\n"
     ]
    }
   ],
   "source": [
    "def classify_resume(text):\n",
    "    # load the saved model and the label encoder \n",
    "    model = joblib.load(\"xgboost_resume_classifier.pkl\")\n",
    "    encoder = joblib.load(\"label_encoder.pkl\")\n",
    "\n",
    "    # clean the input resume text \n",
    "    cleaned_text = clean_text(text)\n",
    "\n",
    "    # Convert text to TF-IDF features \n",
    "    text_vectorized = vectorizer.transform([cleaned_text])\n",
    "\n",
    "    # Prediction category \n",
    "    prediction = model.predict(text_vectorized)\n",
    "\n",
    "\n",
    "    # convert the numeric prediction back to the category name \n",
    "    # we add [0] as the inverse_transform returns an array with 2 values\n",
    "    # the category and secondly is the datatype, so we only want the category hence \n",
    "    # we only acess the first value.\n",
    "    predicted_category = encoder.inverse_transform(prediction)[0]\n",
    "\n",
    "    return predicted_category\n",
    "\n",
    "resumes = [\n",
    "    \"Software engineer skilled in Python, Java, and backend development.\",\n",
    "    \"Data scientist with expertise in machine learning, deep learning, and AI.\",\n",
    "    \"Marketing specialist with experience in brand strategy, SEO, and digital ads.\",\n",
    "    \"Financial analyst with strong background in investment banking and risk analysis.\"\n",
    "]\n",
    "\n",
    "for r in resumes:\n",
    "    print(f\"Resume: {r}\\nPredicted Category: {classify_resume(r)}\\n\")\n"
   ]
  },
  {
   "cell_type": "code",
   "execution_count": 23,
   "id": "ee3fefdc-74e7-4e20-9b4c-31ca392f38c2",
   "metadata": {},
   "outputs": [
    {
     "name": "stdout",
     "output_type": "stream",
     "text": [
      "Category\n",
      "INFORMATION-TECHNOLOGY    120\n",
      "BUSINESS-DEVELOPMENT      120\n",
      "FINANCE                   118\n",
      "ADVOCATE                  118\n",
      "ACCOUNTANT                118\n",
      "ENGINEERING               118\n",
      "CHEF                      118\n",
      "AVIATION                  117\n",
      "FITNESS                   117\n",
      "SALES                     116\n",
      "BANKING                   115\n",
      "HEALTHCARE                115\n",
      "CONSULTANT                115\n",
      "CONSTRUCTION              112\n",
      "PUBLIC-RELATIONS          111\n",
      "HR                        110\n",
      "DESIGNER                  107\n",
      "ARTS                      103\n",
      "TEACHER                   102\n",
      "APPAREL                    97\n",
      "DIGITAL-MEDIA              96\n",
      "AGRICULTURE                63\n",
      "AUTOMOBILE                 36\n",
      "BPO                        22\n",
      "Name: count, dtype: int64\n"
     ]
    },
    {
     "data": {
      "image/png": "[encoded data removed]",
      "text/plain": [
       "<Figure size 1200x600 with 1 Axes>"
      ]
     },
     "metadata": {},
     "output_type": "display_data"
    }
   ],
   "source": [
    "import pandas as pd\n",
    "\n",
    "# Count the number of resumes per job category\n",
    "category_distribution = df['Category'].value_counts()\n",
    "\n",
    "# Display the counts\n",
    "print(category_distribution)\n",
    "\n",
    "# Visualize with a bar chart\n",
    "import matplotlib.pyplot as plt\n",
    "\n",
    "plt.figure(figsize=(12, 6))\n",
    "category_distribution.plot(kind='bar', color='skyblue')\n",
    "plt.title(\"Resume Count per Job Category\")\n",
    "plt.xlabel(\"Job Category\")\n",
    "plt.ylabel(\"Number of Resumes\")\n",
    "plt.xticks(rotation=90)\n",
    "plt.show()\n"
   ]
  },
  {
   "cell_type": "code",
   "execution_count": 24,
   "id": "4bc711dd-7e7e-4a09-9325-4a5918867521",
   "metadata": {},
   "outputs": [
    {
     "name": "stdout",
     "output_type": "stream",
     "text": [
      "New class distribution:\n",
      " Category_encoded\n",
      "19    120\n",
      "13    120\n",
      "4     120\n",
      "7     120\n",
      "21    120\n",
      "11    120\n",
      "0     120\n",
      "15    120\n",
      "3     120\n",
      "16    120\n",
      "10    120\n",
      "5     120\n",
      "14    120\n",
      "12    120\n",
      "22    120\n",
      "8     120\n",
      "2     120\n",
      "17    120\n",
      "18    120\n",
      "9     120\n",
      "1     120\n",
      "23    120\n",
      "20    120\n",
      "6     120\n",
      "Name: count, dtype: int64\n"
     ]
    }
   ],
   "source": [
    "from imblearn.over_sampling import RandomOverSampler\n",
    "\n",
    "ros = RandomOverSampler(random_state=42)\n",
    "X_resampled, y_resampled = ros.fit_resample(X, df['Category_encoded'])\n",
    "\n",
    "print(\"New class distribution:\\n\", pd.Series(y_resampled).value_counts())\n"
   ]
  },
  {
   "cell_type": "code",
   "execution_count": 25,
   "id": "2eb8498b-cc87-4a4f-ac5d-6af675a82bd3",
   "metadata": {},
   "outputs": [
    {
     "name": "stdout",
     "output_type": "stream",
     "text": [
      "Requirement already satisfied: imblearn in /opt/miniconda3/lib/python3.12/site-packages (0.0)\n",
      "Requirement already satisfied: imbalanced-learn in /opt/miniconda3/lib/python3.12/site-packages (from imblearn) (0.13.0)\n",
      "Requirement already satisfied: numpy<3,>=1.24.3 in /opt/miniconda3/lib/python3.12/site-packages (from imbalanced-learn->imblearn) (1.26.4)\n",
      "Requirement already satisfied: scipy<2,>=1.10.1 in /opt/miniconda3/lib/python3.12/site-packages (from imbalanced-learn->imblearn) (1.13.1)\n",
      "Requirement already satisfied: scikit-learn<2,>=1.3.2 in /opt/miniconda3/lib/python3.12/site-packages (from imbalanced-learn->imblearn) (1.5.1)\n",
      "Requirement already satisfied: sklearn-compat<1,>=0.1 in /opt/miniconda3/lib/python3.12/site-packages (from imbalanced-learn->imblearn) (0.1.3)\n",
      "Requirement already satisfied: joblib<2,>=1.1.1 in /opt/miniconda3/lib/python3.12/site-packages (from imbalanced-learn->imblearn) (1.4.2)\n",
      "Requirement already satisfied: threadpoolctl<4,>=2.0.0 in /opt/miniconda3/lib/python3.12/site-packages (from imbalanced-learn->imblearn) (3.5.0)\n"
     ]
    }
   ],
   "source": [
    "!pip install imblearn"
   ]
  },
  {
   "cell_type": "code",
   "execution_count": 26,
   "id": "edc91115-aebd-4c07-86ab-2241189f2c63",
   "metadata": {},
   "outputs": [
    {
     "name": "stdout",
     "output_type": "stream",
     "text": [
      "Category\n",
      "INFORMATION-TECHNOLOGY    120\n",
      "BUSINESS-DEVELOPMENT      120\n",
      "FINANCE                   118\n",
      "ADVOCATE                  118\n",
      "ACCOUNTANT                118\n",
      "ENGINEERING               118\n",
      "CHEF                      118\n",
      "AVIATION                  117\n",
      "FITNESS                   117\n",
      "SALES                     116\n",
      "BANKING                   115\n",
      "HEALTHCARE                115\n",
      "CONSULTANT                115\n",
      "CONSTRUCTION              112\n",
      "PUBLIC-RELATIONS          111\n",
      "HR                        110\n",
      "DESIGNER                  107\n",
      "ARTS                      103\n",
      "TEACHER                   102\n",
      "APPAREL                    97\n",
      "DIGITAL-MEDIA              96\n",
      "AGRICULTURE                63\n",
      "AUTOMOBILE                 36\n",
      "BPO                        22\n",
      "Name: count, dtype: int64\n"
     ]
    },
    {
     "data": {
      "image/png": "[encoded data removed]",
      "text/plain": [
       "<Figure size 1200x600 with 1 Axes>"
      ]
     },
     "metadata": {},
     "output_type": "display_data"
    }
   ],
   "source": [
    "import pandas as pd\n",
    "\n",
    "# Count the number of resumes per job category\n",
    "category_distribution = df['Category'].value_counts()\n",
    "\n",
    "# Display the counts\n",
    "print(category_distribution)\n",
    "\n",
    "# Visualize with a bar chart\n",
    "import matplotlib.pyplot as plt\n",
    "\n",
    "plt.figure(figsize=(12, 6))\n",
    "category_distribution.plot(kind='bar', color='skyblue')\n",
    "plt.title(\"Resume Count per Job Category\")\n",
    "plt.xlabel(\"Job Category\")\n",
    "plt.ylabel(\"Number of Resumes\")\n",
    "plt.xticks(rotation=90)\n",
    "plt.show()\n"
   ]
  },
  {
   "cell_type": "code",
   "execution_count": 27,
   "id": "ff8eb90e-a1d6-4a5e-adbc-3710ad8e6e52",
   "metadata": {},
   "outputs": [
    {
     "data": {
      "text/plain": [
       "['tfidf_vectorizer.pkl']"
      ]
     },
     "execution_count": 27,
     "metadata": {},
     "output_type": "execute_result"
    }
   ],
   "source": [
    "# Save the TF-IDF vectorizer\n",
    "joblib.dump(vectorizer, \"tfidf_vectorizer.pkl\")\n"
   ]
  },
  {
   "cell_type": "code",
   "execution_count": 28,
   "id": "e1808c25-7d2d-4a4d-ac1e-c9f2c057d107",
   "metadata": {},
   "outputs": [
    {
     "name": "stdout",
     "output_type": "stream",
     "text": [
      "Requirement already satisfied: streamlit in /opt/miniconda3/lib/python3.12/site-packages (1.40.2)\n",
      "Requirement already satisfied: pymupdf in /opt/miniconda3/lib/python3.12/site-packages (1.25.4)\n",
      "Requirement already satisfied: altair<6,>=4.0 in /opt/miniconda3/lib/python3.12/site-packages (from streamlit) (5.5.0)\n",
      "Requirement already satisfied: blinker<2,>=1.0.0 in /opt/miniconda3/lib/python3.12/site-packages (from streamlit) (1.9.0)\n",
      "Requirement already satisfied: cachetools<6,>=4.0 in /opt/miniconda3/lib/python3.12/site-packages (from streamlit) (5.5.0)\n",
      "Requirement already satisfied: click<9,>=7.0 in /opt/miniconda3/lib/python3.12/site-packages (from streamlit) (8.1.7)\n",
      "Requirement already satisfied: numpy<3,>=1.23 in /opt/miniconda3/lib/python3.12/site-packages (from streamlit) (1.26.4)\n",
      "Requirement already satisfied: packaging<25,>=20 in /opt/miniconda3/lib/python3.12/site-packages (from streamlit) (23.2)\n",
      "Requirement already satisfied: pandas<3,>=1.4.0 in /opt/miniconda3/lib/python3.12/site-packages (from streamlit) (2.2.2)\n",
      "Requirement already satisfied: pillow<12,>=7.1.0 in /opt/miniconda3/lib/python3.12/site-packages (from streamlit) (10.4.0)\n",
      "Requirement already satisfied: protobuf<6,>=3.20 in /opt/miniconda3/lib/python3.12/site-packages (from streamlit) (4.25.4)\n",
      "Requirement already satisfied: pyarrow>=7.0 in /opt/miniconda3/lib/python3.12/site-packages (from streamlit) (18.1.0)\n",
      "Requirement already satisfied: requests<3,>=2.27 in /opt/miniconda3/lib/python3.12/site-packages (from streamlit) (2.32.2)\n",
      "Requirement already satisfied: rich<14,>=10.14.0 in /opt/miniconda3/lib/python3.12/site-packages (from streamlit) (13.7.1)\n",
      "Requirement already satisfied: tenacity<10,>=8.1.0 in /opt/miniconda3/lib/python3.12/site-packages (from streamlit) (9.0.0)\n",
      "Requirement already satisfied: toml<2,>=0.10.1 in /opt/miniconda3/lib/python3.12/site-packages (from streamlit) (0.10.2)\n",
      "Requirement already satisfied: typing-extensions<5,>=4.3.0 in /opt/miniconda3/lib/python3.12/site-packages (from streamlit) (4.11.0)\n",
      "Requirement already satisfied: gitpython!=3.1.19,<4,>=3.0.7 in /opt/miniconda3/lib/python3.12/site-packages (from streamlit) (3.1.43)\n",
      "Requirement already satisfied: pydeck<1,>=0.8.0b4 in /opt/miniconda3/lib/python3.12/site-packages (from streamlit) (0.9.1)\n",
      "Requirement already satisfied: tornado<7,>=6.0.3 in /opt/miniconda3/lib/python3.12/site-packages (from streamlit) (6.4.1)\n",
      "Requirement already satisfied: jinja2 in /opt/miniconda3/lib/python3.12/site-packages (from altair<6,>=4.0->streamlit) (3.1.4)\n",
      "Requirement already satisfied: jsonschema>=3.0 in /opt/miniconda3/lib/python3.12/site-packages (from altair<6,>=4.0->streamlit) (4.23.0)\n",
      "Requirement already satisfied: narwhals>=1.14.2 in /opt/miniconda3/lib/python3.12/site-packages (from altair<6,>=4.0->streamlit) (1.14.3)\n",
      "Requirement already satisfied: gitdb<5,>=4.0.1 in /opt/miniconda3/lib/python3.12/site-packages (from gitpython!=3.1.19,<4,>=3.0.7->streamlit) (4.0.11)\n",
      "Requirement already satisfied: python-dateutil>=2.8.2 in /opt/miniconda3/lib/python3.12/site-packages (from pandas<3,>=1.4.0->streamlit) (2.9.0.post0)\n",
      "Requirement already satisfied: pytz>=2020.1 in /opt/miniconda3/lib/python3.12/site-packages (from pandas<3,>=1.4.0->streamlit) (2024.1)\n",
      "Requirement already satisfied: tzdata>=2022.7 in /opt/miniconda3/lib/python3.12/site-packages (from pandas<3,>=1.4.0->streamlit) (2023.3)\n",
      "Requirement already satisfied: charset-normalizer<4,>=2 in /opt/miniconda3/lib/python3.12/site-packages (from requests<3,>=2.27->streamlit) (2.0.4)\n",
      "Requirement already satisfied: idna<4,>=2.5 in /opt/miniconda3/lib/python3.12/site-packages (from requests<3,>=2.27->streamlit) (3.7)\n",
      "Requirement already satisfied: urllib3<3,>=1.21.1 in /opt/miniconda3/lib/python3.12/site-packages (from requests<3,>=2.27->streamlit) (2.2.2)\n",
      "Requirement already satisfied: certifi>=2017.4.17 in /opt/miniconda3/lib/python3.12/site-packages (from requests<3,>=2.27->streamlit) (2024.8.30)\n",
      "Requirement already satisfied: markdown-it-py>=2.2.0 in /opt/miniconda3/lib/python3.12/site-packages (from rich<14,>=10.14.0->streamlit) (3.0.0)\n",
      "Requirement already satisfied: pygments<3.0.0,>=2.13.0 in /opt/miniconda3/lib/python3.12/site-packages (from rich<14,>=10.14.0->streamlit) (2.15.1)\n",
      "Requirement already satisfied: smmap<6,>=3.0.1 in /opt/miniconda3/lib/python3.12/site-packages (from gitdb<5,>=4.0.1->gitpython!=3.1.19,<4,>=3.0.7->streamlit) (5.0.1)\n",
      "Requirement already satisfied: MarkupSafe>=2.0 in /opt/miniconda3/lib/python3.12/site-packages (from jinja2->altair<6,>=4.0->streamlit) (2.1.5)\n",
      "Requirement already satisfied: attrs>=22.2.0 in /opt/miniconda3/lib/python3.12/site-packages (from jsonschema>=3.0->altair<6,>=4.0->streamlit) (24.2.0)\n",
      "Requirement already satisfied: jsonschema-specifications>=2023.03.6 in /opt/miniconda3/lib/python3.12/site-packages (from jsonschema>=3.0->altair<6,>=4.0->streamlit) (2023.7.1)\n",
      "Requirement already satisfied: referencing>=0.28.4 in /opt/miniconda3/lib/python3.12/site-packages (from jsonschema>=3.0->altair<6,>=4.0->streamlit) (0.30.2)\n",
      "Requirement already satisfied: rpds-py>=0.7.1 in /opt/miniconda3/lib/python3.12/site-packages (from jsonschema>=3.0->altair<6,>=4.0->streamlit) (0.10.6)\n",
      "Requirement already satisfied: mdurl~=0.1 in /opt/miniconda3/lib/python3.12/site-packages (from markdown-it-py>=2.2.0->rich<14,>=10.14.0->streamlit) (0.1.0)\n",
      "Requirement already satisfied: six>=1.5 in /opt/miniconda3/lib/python3.12/site-packages (from python-dateutil>=2.8.2->pandas<3,>=1.4.0->streamlit) (1.16.0)\n",
      "Note: you may need to restart the kernel to use updated packages.\n"
     ]
    }
   ],
   "source": [
    "pip install streamlit pymupdf "
   ]
  },
  {
   "cell_type": "code",
   "execution_count": 29,
   "id": "780b3942-9504-4cd4-bc6c-d67875a37328",
   "metadata": {},
   "outputs": [
    {
     "name": "stdout",
     "output_type": "stream",
     "text": [
      "['tfidf_vectorizer.pkl', 'label_encoder.pkl', 'Teacher_Resume.pdf', '.DS_Store', 'requirements.txt', 'resume_dashboard.py', 'Software_Engineer_Resume.pdf', 'README.md', 'resume_analyser.ipynb', 'Resume.csv', 'xgboost_resume_classifier.pkl', '.ipynb_checkpoints', 'Graphic_Designer_Resume.pdf', '.git', 'Mechanical_Engineer_Resume.pdf', 'Resume.csv.zip', 'test_app.py']\n"
     ]
    }
   ],
   "source": [
    "import os\n",
    "print(os.listdir())\n"
   ]
  },
  {
   "cell_type": "code",
   "execution_count": 30,
   "id": "582a9f15-d107-4530-97e3-d3c0e62401c0",
   "metadata": {},
   "outputs": [],
   "source": [
    "with open(\"resume_dashboard.py\", \"w\") as f:\n",
    "    f.write(\"# This will be your Streamlit app script\")\n"
   ]
  },
  {
   "cell_type": "markdown",
   "id": "adf12d70-7662-4e60-b100-934b1becc47c",
   "metadata": {},
   "source": [
    "**Highlight Missing Skills in resume**"
   ]
  },
  {
   "cell_type": "code",
   "execution_count": 34,
   "id": "7ad1ef1e-536e-4e6e-8405-46c281cc552e",
   "metadata": {},
   "outputs": [],
   "source": [
    "# Dictionary mapping job categories to required skills\n",
    "job_skills = {\n",
    "    \"INFORMATION-TECHNOLOGY\": {\"Python\", \"Java\", \"C++\", \"SQL\", \"Machine Learning\", \"Data Science\"},\n",
    "    \"ENGINEERING\": {\"AutoCAD\", \"MATLAB\", \"SolidWorks\", \"Mechanical Design\", \"Thermodynamics\"},\n",
    "    \"BUSINESS-DEVELOPMENT\": {\"Sales\", \"Marketing\", \"Negotiation\", \"Customer Relationship\"},\n",
    "    \"FINANCE\": {\"Accounting\", \"Financial Modeling\", \"Excel\", \"Risk Management\"},\n",
    "    \"HEALTHCARE\": {\"Patient Care\", \"Medical Terminology\", \"Diagnosis\", \"Pharmacology\"},\n",
    "    \"ARTS\": {\"Graphic Design\", \"Adobe Photoshop\", \"Illustration\", \"Typography\"},\n",
    "    \"HR\": {\"Recruitment\", \"Employee Relations\", \"Payroll\", \"HR Policies\"},\n",
    "}\n"
   ]
  },
  {
   "cell_type": "code",
   "execution_count": 36,
   "id": "96c7c240-fce9-471a-a3f3-b8f8f31c0fbe",
   "metadata": {},
   "outputs": [],
   "source": [
    "import re\n",
    "\n",
    "def extract_resume_skills(resume_text, category):\n",
    "    \"\"\"\n",
    "    Compares the extracted resume text with job-specific skills\n",
    "    and identifies missing skills.\n",
    "    \"\"\"\n",
    "    if category not in job_skills:\n",
    "        return None, None  # No predefined skills for this category\n",
    "    \n",
    "    expected_skills = job_skills[category]\n",
    "    found_skills = {skill for skill in expected_skills if re.search(rf\"\\b{skill}\\b\", resume_text, re.IGNORECASE)}\n",
    "    missing_skills = expected_skills - found_skills  # Skills that were not found\n",
    "    \n",
    "    return found_skills, missing_skills\n"
   ]
  },
  {
   "cell_type": "code",
   "execution_count": null,
   "id": "04d721b9-8ba2-46dc-b5a3-05229a724707",
   "metadata": {},
   "outputs": [],
   "source": []
  }
 ],
 "metadata": {
  "kernelspec": {
   "display_name": "Python 3 (ipykernel)",
   "language": "python",
   "name": "python3"
  },
  "language_info": {
   "codemirror_mode": {
    "name": "ipython",
    "version": 3
   },
   "file_extension": ".py",
   "mimetype": "text/x-python",
   "name": "python",
   "nbconvert_exporter": "python",
   "pygments_lexer": "ipython3",
   "version": "3.12.4"
  }
 },
 "nbformat": 4,
 "nbformat_minor": 5
}
